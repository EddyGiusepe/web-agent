{
 "cells": [
  {
   "cell_type": "markdown",
   "metadata": {},
   "source": [
    "# <h1 align=\"center\"><font color=\"red\">Get started with the Gemini API: Python</font></h1>"
   ]
  },
  {
   "cell_type": "markdown",
   "metadata": {},
   "source": [
    "<font color=\"pink\">Senior Data Scientist: Dr. Eddy Giusepe Chirinos Isidro</font>"
   ]
  },
  {
   "cell_type": "markdown",
   "metadata": {},
   "source": [
    "Link de estudo:\n",
    "\n",
    "* [Google AI for Developers](https://ai.google.dev/gemini-api/docs/get-started/tutorial?lang=python&hl=pt-br)"
   ]
  },
  {
   "cell_type": "markdown",
   "metadata": {},
   "source": [
    "Este início rápido demonstra como usar o `Python SDK` para a `API Gemini`, que dá acesso aos modelos de linguagem grande `Gemini da Google`. Neste início rápido, você aprenderá como:\n",
    "\n",
    "* Configure seu ambiente de desenvolvimento e acesso à API para usar o `Gemini`.\n",
    "* Gere respostas de texto a partir de entradas de texto.\n",
    "* Gere respostas de texto a partir de entradas multimodais (texto e imagens).\n",
    "* Use o `Gemini` para conversas multi-turno (chat).\n",
    "* Use `embeddings` para grandes modelos de linguagem.\n",
    "\n",
    "\n",
    "Instalação:\n",
    "\n",
    "```\n",
    "pip install -q -U google-generativeai\n",
    "```\n",
    "\n",
    "ou \n",
    "\n",
    "```\n",
    "uv add google-generativeai\n",
    "```\n"
   ]
  },
  {
   "cell_type": "markdown",
   "metadata": {},
   "source": [
    "# <font color=\"gree\">Setup your API key</font>"
   ]
  },
  {
   "cell_type": "code",
   "execution_count": 1,
   "metadata": {},
   "outputs": [],
   "source": [
    "import pathlib\n",
    "import textwrap\n",
    "\n",
    "import google.generativeai as genai\n",
    "\n",
    "from IPython.display import display\n",
    "from IPython.display import Markdown\n",
    "\n",
    "\n",
    "def to_markdown(text):\n",
    "    text = text.replace(\"•\", \"  *\")\n",
    "    return Markdown(textwrap.indent(text, \"> \", predicate=lambda _: True))"
   ]
  },
  {
   "cell_type": "code",
   "execution_count": 2,
   "metadata": {},
   "outputs": [],
   "source": [
    "import os\n",
    "from dotenv import load_dotenv\n",
    "load_dotenv()\n",
    "\n",
    "GOOGLE_API_KEY = os.getenv(\"GOOGLE_AI_STUDIO_API_KEY\")\n",
    "if not GOOGLE_API_KEY:\n",
    "    raise ValueError(\"Chave API não encontrada no arquivo .env\")\n",
    "\n",
    "genai.configure(api_key=GOOGLE_API_KEY)"
   ]
  },
  {
   "cell_type": "markdown",
   "metadata": {},
   "source": [
    "# <font color=\"gree\">List models</font>"
   ]
  },
  {
   "cell_type": "markdown",
   "metadata": {},
   "source": [
    "Agora você está pronto para chamar a `API Gemini`. Use list_modelspara ver os modelos Gemini disponíveis:\n",
    "\n",
    "* `gemini-1.5-flash`: otimizado para casos de uso `multimodais` onde velocidade e custo são importantes. Este deve ser seu modelo preferido.\n",
    "* `gemini-1.5-pro`: otimizado para tarefas de `alta inteligência`, o modelo Gemini mais poderoso"
   ]
  },
  {
   "cell_type": "code",
   "execution_count": 3,
   "metadata": {},
   "outputs": [
    {
     "name": "stdout",
     "output_type": "stream",
     "text": [
      "models/gemini-1.0-pro-latest\n",
      "models/gemini-1.0-pro\n",
      "models/gemini-pro\n",
      "models/gemini-1.0-pro-001\n",
      "models/gemini-1.0-pro-vision-latest\n",
      "models/gemini-pro-vision\n",
      "models/gemini-1.5-pro-latest\n",
      "models/gemini-1.5-pro-001\n",
      "models/gemini-1.5-pro-002\n",
      "models/gemini-1.5-pro\n",
      "models/gemini-1.5-flash-latest\n",
      "models/gemini-1.5-flash-001\n",
      "models/gemini-1.5-flash-001-tuning\n",
      "models/gemini-1.5-flash\n",
      "models/gemini-1.5-flash-002\n",
      "models/gemini-1.5-flash-8b\n",
      "models/gemini-1.5-flash-8b-001\n",
      "models/gemini-1.5-flash-8b-latest\n",
      "models/gemini-1.5-flash-8b-exp-0827\n",
      "models/gemini-1.5-flash-8b-exp-0924\n",
      "models/gemini-2.0-flash-exp\n",
      "models/gemini-2.0-flash\n",
      "models/gemini-2.0-flash-001\n",
      "models/gemini-2.0-flash-lite-preview\n",
      "models/gemini-2.0-flash-lite-preview-02-05\n",
      "models/gemini-2.0-pro-exp\n",
      "models/gemini-2.0-pro-exp-02-05\n",
      "models/gemini-exp-1206\n",
      "models/gemini-2.0-flash-thinking-exp-01-21\n",
      "models/gemini-2.0-flash-thinking-exp\n",
      "models/gemini-2.0-flash-thinking-exp-1219\n",
      "models/learnlm-1.5-pro-experimental\n"
     ]
    }
   ],
   "source": [
    "for model in genai.list_models():\n",
    "    if \"generateContent\" in model.supported_generation_methods:\n",
    "        print(model.name)"
   ]
  },
  {
   "cell_type": "markdown",
   "metadata": {},
   "source": [
    "# <font color=\"yellow\">Generate text from text inputs</font>"
   ]
  },
  {
   "cell_type": "markdown",
   "metadata": {},
   "source": [
    "<font color=\"orange\">Sempre comece com o modelo `'gemini-1.5-flash'`. Ele deve ser suficiente para a maioria das suas tarefas:</font>"
   ]
  },
  {
   "cell_type": "code",
   "execution_count": 4,
   "metadata": {},
   "outputs": [
    {
     "data": {
      "text/plain": [
       "genai.GenerativeModel(\n",
       "    model_name='models/gemini-1.5-flash',\n",
       "    generation_config={},\n",
       "    safety_settings={},\n",
       "    tools=None,\n",
       "    system_instruction=None,\n",
       "    cached_content=None\n",
       ")"
      ]
     },
     "execution_count": 4,
     "metadata": {},
     "output_type": "execute_result"
    }
   ],
   "source": [
    "model = genai.GenerativeModel(\"gemini-1.5-flash\")\n",
    "\n",
    "model"
   ]
  },
  {
   "cell_type": "markdown",
   "metadata": {},
   "source": [
    "<font color=\"orange\">No caso mais simples, você pode passar uma string de prompt para o método [GenerativeModel.generate_content](https://ai.google.dev/api/generate-content?hl=pt-br#v1beta.models.generateContent):</font>"
   ]
  },
  {
   "cell_type": "code",
   "execution_count": 9,
   "metadata": {},
   "outputs": [
    {
     "name": "stdout",
     "output_type": "stream",
     "text": [
      "\n",
      "Tempo de execução: 2.86 segundos\n"
     ]
    }
   ],
   "source": [
    "import time\n",
    "\n",
    "# Início da medição do tempo:\n",
    "start_time = time.time()\n",
    "\n",
    "response = model.generate_content(\"Qual é o significado da vida?\")\n",
    "response\n",
    "# Fim da medição e cálculo do tempo decorrido\n",
    "end_time = time.time()\n",
    "\n",
    "\n",
    "tempo_execucao = end_time - start_time\n",
    "print(f\"\\nTempo de execução: {tempo_execucao:.2f} segundos\")\n"
   ]
  },
  {
   "cell_type": "code",
   "execution_count": 10,
   "metadata": {},
   "outputs": [
    {
     "name": "stdout",
     "output_type": "stream",
     "text": [
      "response:\n",
      "GenerateContentResponse(\n",
      "    done=True,\n",
      "    iterator=None,\n",
      "    result=protos.GenerateContentResponse({\n",
      "      \"candidates\": [\n",
      "        {\n",
      "          \"content\": {\n",
      "            \"parts\": [\n",
      "              {\n",
      "                \"text\": \"N\\u00e3o existe uma \\u00fanica resposta universalmente aceita para a pergunta \\\"Qual \\u00e9 o significado da vida?\\\".  A resposta \\u00e9 profundamente pessoal e varia de pessoa para pessoa, dependendo de suas cren\\u00e7as, valores, experi\\u00eancias e perspectivas.\\n\\nAlgumas pessoas encontram significado na:\\n\\n* **Religi\\u00e3o ou espiritualidade:**  A f\\u00e9 em um poder superior e a busca pela ilumina\\u00e7\\u00e3o espiritual podem dar sentido \\u00e0 vida para muitos.\\n* **Relacionamentos:** O amor, a fam\\u00edlia e as amizades fornecem conex\\u00e3o e prop\\u00f3sito.\\n* **Contribui\\u00e7\\u00e3o \\u00e0 sociedade:**  Trabalhar para melhorar o mundo, seja atrav\\u00e9s de caridade, ativismo ou simplesmente ajudando os outros, pode ser uma fonte de significado.\\n* **Criatividade e auto-express\\u00e3o:**  Expressar-se atrav\\u00e9s da arte, da m\\u00fasica, da escrita ou de outras formas criativas pode ser profundamente gratificante.\\n* **Desenvolvimento pessoal:**  A busca pelo conhecimento, o crescimento pessoal e a supera\\u00e7\\u00e3o de desafios podem dar prop\\u00f3sito \\u00e0 vida.\\n* **Experi\\u00eancias:** Explorar o mundo, viajar e viver novas experi\\u00eancias podem proporcionar uma sensa\\u00e7\\u00e3o de significado e prop\\u00f3sito.\\n\\nEm resumo, o significado da vida n\\u00e3o \\u00e9 algo a ser descoberto, mas sim algo a ser **criado**. \\u00c9 uma jornada individual de autodescoberta e constru\\u00e7\\u00e3o de um prop\\u00f3sito que resulte em uma vida significativa e gratificante para voc\\u00ea.  A busca por esse significado, talvez mais do que o pr\\u00f3prio significado em si, \\u00e9 o que muitas vezes confere prop\\u00f3sito \\u00e0 vida.\\n\"\n",
      "              }\n",
      "            ],\n",
      "            \"role\": \"model\"\n",
      "          },\n",
      "          \"finish_reason\": \"STOP\",\n",
      "          \"avg_logprobs\": -0.3036347631376739\n",
      "        }\n",
      "      ],\n",
      "      \"usage_metadata\": {\n",
      "        \"prompt_token_count\": 7,\n",
      "        \"candidates_token_count\": 319,\n",
      "        \"total_token_count\": 326\n",
      "      },\n",
      "      \"model_version\": \"gemini-1.5-flash\"\n",
      "    }),\n",
      ")\n"
     ]
    }
   ],
   "source": [
    "print(response)"
   ]
  },
  {
   "cell_type": "code",
   "execution_count": 11,
   "metadata": {},
   "outputs": [
    {
     "data": {
      "text/markdown": [
       "> Não existe uma única resposta universalmente aceita para a pergunta \"Qual é o significado da vida?\".  A resposta é profundamente pessoal e varia de pessoa para pessoa, dependendo de suas crenças, valores, experiências e perspectivas.\n",
       "> \n",
       "> Algumas pessoas encontram significado na:\n",
       "> \n",
       "> * **Religião ou espiritualidade:**  A fé em um poder superior e a busca pela iluminação espiritual podem dar sentido à vida para muitos.\n",
       "> * **Relacionamentos:** O amor, a família e as amizades fornecem conexão e propósito.\n",
       "> * **Contribuição à sociedade:**  Trabalhar para melhorar o mundo, seja através de caridade, ativismo ou simplesmente ajudando os outros, pode ser uma fonte de significado.\n",
       "> * **Criatividade e auto-expressão:**  Expressar-se através da arte, da música, da escrita ou de outras formas criativas pode ser profundamente gratificante.\n",
       "> * **Desenvolvimento pessoal:**  A busca pelo conhecimento, o crescimento pessoal e a superação de desafios podem dar propósito à vida.\n",
       "> * **Experiências:** Explorar o mundo, viajar e viver novas experiências podem proporcionar uma sensação de significado e propósito.\n",
       "> \n",
       "> Em resumo, o significado da vida não é algo a ser descoberto, mas sim algo a ser **criado**. É uma jornada individual de autodescoberta e construção de um propósito que resulte em uma vida significativa e gratificante para você.  A busca por esse significado, talvez mais do que o próprio significado em si, é o que muitas vezes confere propósito à vida.\n"
      ],
      "text/plain": [
       "<IPython.core.display.Markdown object>"
      ]
     },
     "execution_count": 11,
     "metadata": {},
     "output_type": "execute_result"
    }
   ],
   "source": [
    "to_markdown(response.text)"
   ]
  },
  {
   "cell_type": "markdown",
   "metadata": {},
   "source": [
    "Se a API não retornar um resultado, use `GenerateContentResponse.prompt_feedback`para verificar se ela foi bloqueada devido a problemas de segurança relacionados ao `prompt`."
   ]
  },
  {
   "cell_type": "code",
   "execution_count": 22,
   "metadata": {},
   "outputs": [
    {
     "data": {
      "text/plain": [
       "[content {\n",
       "  parts {\n",
       "    text: \"Não existe uma única resposta universalmente aceita para a pergunta \\\"Qual é o significado da vida?\\\".  A resposta é profundamente pessoal e varia de pessoa para pessoa, dependendo de suas crenças, valores, experiências e perspectivas.\\n\\nAlgumas pessoas encontram significado na:\\n\\n* **Religião ou espiritualidade:**  A fé em um poder superior e a busca pela iluminação espiritual podem dar sentido à vida para muitos.\\n* **Relacionamentos:** O amor, a família e as amizades fornecem conexão e propósito.\\n* **Contribuição à sociedade:**  Trabalhar para melhorar o mundo, seja através de caridade, ativismo ou simplesmente ajudando os outros, pode ser uma fonte de significado.\\n* **Criatividade e auto-expressão:**  Expressar-se através da arte, da música, da escrita ou de outras formas criativas pode ser profundamente gratificante.\\n* **Desenvolvimento pessoal:**  A busca pelo conhecimento, o crescimento pessoal e a superação de desafios podem dar propósito à vida.\\n* **Experiências:** Explorar o mundo, viajar e viver novas experiências podem proporcionar uma sensação de significado e propósito.\\n\\nEm resumo, o significado da vida não é algo a ser descoberto, mas sim algo a ser **criado**. É uma jornada individual de autodescoberta e construção de um propósito que resulte em uma vida significativa e gratificante para você.  A busca por esse significado, talvez mais do que o próprio significado em si, é o que muitas vezes confere propósito à vida.\\n\"\n",
       "  }\n",
       "  role: \"model\"\n",
       "}\n",
       "finish_reason: STOP\n",
       "avg_logprobs: -0.3036347631376739\n",
       "]"
      ]
     },
     "execution_count": 22,
     "metadata": {},
     "output_type": "execute_result"
    }
   ],
   "source": [
    "response.candidates"
   ]
  },
  {
   "cell_type": "markdown",
   "metadata": {},
   "source": [
    "<font color=\"orange\">Por padrão, o modelo retorna uma resposta após concluir todo o processo de geração. Você também pode transmitir a resposta conforme ela é gerada, e o modelo retornará pedaços da resposta assim que forem gerados.\n",
    "\n",
    "Para transmitir respostas, use `GenerativeModel.generate_content(..., stream=True)`.</font>"
   ]
  },
  {
   "cell_type": "code",
   "execution_count": 24,
   "metadata": {},
   "outputs": [
    {
     "name": "stdout",
     "output_type": "stream",
     "text": [
      "Não\n",
      " existe uma única resposta para a pergunta \"Qual é o significado da vida?\".  \n",
      "A resposta é profundamente pessoal e varia de indivíduo para indivíduo, dependendo de seus\n",
      " valores, crenças, experiências e perspectivas.\n",
      "\n",
      "Algumas pessoas encontram significado na:\n",
      "\n",
      "* **Religião e espiritualidade:**  Para muitos, o\n",
      " significado da vida está em servir a um poder superior, seguir os ensinamentos de uma fé e encontrar a salvação ou iluminação.\n",
      "* **Relacionamentos:**\n",
      " O amor, a família e as conexões com outras pessoas são fontes importantes de significado para muitas pessoas.\n",
      "* **Contribuição para a sociedade:**  Contribuir para algo maior do que si mesmo, seja através do trabalho voluntário,\n",
      " da caridade ou da criação de algo valioso, pode dar sentido à vida.\n",
      "* **Autodescoberta e crescimento pessoal:**  A jornada de autoconhecimento, o desenvolvimento pessoal e a busca por crescimento e aprendizado contínuo\n",
      " podem ser fontes de significado.\n",
      "* **Criatividade e expressão artística:**  Expressar-se criativamente, seja através da arte, da música, da escrita ou de outras formas, pode ser uma forma significativa de dar sentido à vida.\n",
      "* **Experiências e aventuras:**  Explorar o mundo,\n",
      " vivenciar novas experiências e desafiar os limites pessoais podem trazer significado e propósito.\n",
      "\n",
      "\n",
      "Em resumo, o significado da vida não é algo que se encontra, mas algo que se cria.  É uma jornada individual e contínua de descoberta, onde cada pessoa define seu próprio propósito e valores.  Não há uma\n",
      " resposta certa ou errada.\n",
      "\n"
     ]
    }
   ],
   "source": [
    "response = model.generate_content(\"Qual é o significado da vida?\", stream=True)\n",
    "\n",
    "for chunk in response:\n",
    "    print(chunk.text)\n",
    "\n"
   ]
  },
  {
   "cell_type": "markdown",
   "metadata": {},
   "source": [
    "# <font color=\"yellow\">Generate text from image and text inputs</font>"
   ]
  },
  {
   "cell_type": "markdown",
   "metadata": {},
   "source": [
    "A `GenerativeModel.generate_content` API foi projetada para lidar com `prompts multimodais` e retorna uma saída de texto.\n",
    "\n",
    "Vamos incluir uma imagem:"
   ]
  },
  {
   "cell_type": "code",
   "execution_count": 26,
   "metadata": {},
   "outputs": [
    {
     "name": "stdout",
     "output_type": "stream",
     "text": [
      "  % Total    % Received % Xferd  Average Speed   Time    Time     Time  Current\n",
      "                                 Dload  Upload   Total   Spent    Left  Speed\n",
      "100  405k  100  405k    0     0   934k      0 --:--:-- --:--:-- --:--:--  935k\n"
     ]
    }
   ],
   "source": [
    "# Criamos uma pasta \"images\":\n",
    "!mkdir -p images\n",
    "\n",
    "!curl -o images/image.jpg https://t0.gstatic.com/licensed-image?q=tbn:ANd9GcQ_Kevbk21QBRy-PgB4kQpS79brbmmEG7m3VOTShAn4PecDU5H5UxrJxE3Dw1JiaG17V88QIol19-3TM2wCHw\n",
    "\n"
   ]
  },
  {
   "cell_type": "code",
   "execution_count": null,
   "metadata": {},
   "outputs": [],
   "source": []
  }
 ],
 "metadata": {
  "kernelspec": {
   "display_name": ".venv",
   "language": "python",
   "name": "python3"
  },
  "language_info": {
   "codemirror_mode": {
    "name": "ipython",
    "version": 3
   },
   "file_extension": ".py",
   "mimetype": "text/x-python",
   "name": "python",
   "nbconvert_exporter": "python",
   "pygments_lexer": "ipython3",
   "version": "3.12.8"
  }
 },
 "nbformat": 4,
 "nbformat_minor": 2
}
